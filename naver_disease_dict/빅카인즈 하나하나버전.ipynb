{
 "cells": [
  {
   "cell_type": "code",
   "execution_count": 1,
   "metadata": {},
   "outputs": [],
   "source": [
    "# Chrome의 경우 | 아까 받은 chromedriver의 위치를 지정해준다.\n",
    "import sys\n",
    "import os\n",
    "if not sys.modules.get('selenium'):\n",
    "    os.system('pip3 install selenium')\n",
    "from selenium import webdriver\n",
    "if not sys.modules.get('requests'):\n",
    "    os.system('pip3 install requests')\n",
    "    import requests\n",
    "if not sys.modules.get('bs4'):\n",
    "    os.system('pip3 install bs4')\n",
    "    from bs4 import BeautifulSoup\n",
    "from selenium.webdriver.support.ui import WebDriverWait\n",
    "from selenium.webdriver.support import expected_conditions as EC\n",
    "import time\n",
    "import pandas as pd\n",
    "from selenium.webdriver.common.action_chains import ActionChains\n",
    "import numpy as np\n",
    "from selenium.webdriver.common.keys import Keys\n",
    "from selenium.webdriver.chrome.options import Options\n",
    "from selenium.webdriver.support.ui import WebDriverWait\n",
    "# expected_conditions는 Selenium 2.26.0 이후 부터 사용 가능합니다.\n",
    "from selenium.webdriver.support import expected_conditions as EC\n",
    "from selenium.webdriver.common.by import By\n",
    "import re \n",
    "if not sys.modules.get('pyautogui'):\n",
    "    os.system('pip3 install pyautogui')\n",
    "    import pyautogui\n"
   ]
  },
  {
   "cell_type": "code",
   "execution_count": 12,
   "metadata": {},
   "outputs": [],
   "source": [
    "#빅카인즈 사이트 접속이 3초 소요된다.\n",
    "driver = webdriver.Chrome()\n",
    "driver.implicitly_wait(3)\n",
    "driver.get('https://www.bigkinds.or.kr/v2/news/recentNews.do')\n",
    "#로그인\n",
    "#driver.find_element_by_css_selector('#app-top-navbar > ul > li:nth-child(1) > a').click()\n",
    "#아이디\n",
    "#driver.find_element_by_css_selector('#login-user-id').send_keys('sda96@naver.com')\n",
    "#비밀번호\n",
    "#driver.find_element_by_css_selector('#login-user-password').send_keys('5491qwer')\n",
    "#driver.find_element_by_css_selector('#login-btn').click()"
   ]
  },
  {
   "cell_type": "code",
   "execution_count": 11,
   "metadata": {},
   "outputs": [],
   "source": [
    "for i in range(1,12):\n",
    "    opens = \"#news-results > div > div:nth-child(%s) > div > div.news-card__title.news-detail\"%i\n",
    "    WebDriverWait(driver, 30).until(EC.presence_of_element_located((By.CSS_SELECTOR,opens))).click()\n",
    "    time.sleep(2)\n",
    "    close = \"#news-detail-modal > div > div > div.modal-footer > button\"\n",
    "    WebDriverWait(driver, 30).until(EC.presence_of_element_located((By.CSS_SELECTOR,close))).click()\n",
    "#news-results > div > div:nth-child(2) > div > div.news-card__title.news-detail\n",
    "#news-results > div > div:nth-child(12) > div > div.news-card__title.news-detail"
   ]
  },
  {
   "cell_type": "code",
   "execution_count": null,
   "metadata": {},
   "outputs": [],
   "source": [
    "def auto(word):\n",
    "    for i in range(1,11):\n",
    "        time.sleep(2)\n",
    "        try:\n",
    "            #i번째 기사를 클릭한다 \n",
    "            csselector = '#news-results > div:nth-child(%s) > div.news-item__body > h4'%i\n",
    "            WebDriverWait(driver, 30).until(EC.presence_of_element_located((By.CSS_SELECTOR,csselector))).click()\n",
    "            html = driver.page_source\n",
    "            soup = BeautifulSoup(html, 'html.parser') \n",
    "            ##기사내용 지정후 한글추출이 완료되면 data에 리스트형태로 저장하고 text파일에 추가한다\n",
    "            te = soup.select('#news-detail-modal > div > div > div.modal-body > div')\n",
    "            #선택한 부분의 css_selector가 리스트형태이기에 문자형으로 바꾼다.\n",
    "            ste = str(te)\n",
    "            ste = cleanText(ste)\n",
    "            s_ste = str(te)\n",
    "            s_ste = cleanText_tran(s_ste)\n",
    "            save_csv(word,ste)\n",
    "            save_csv_tran(word,s_ste)\n",
    "            time.sleep(3)\n",
    "            WebDriverWait(driver, 30).until(EC.presence_of_element_located((By.CSS_SELECTOR,'#news-detail-modal > div > div > div.modal-header > button'))).click()\n",
    "        #에러가 발생하면 새로고침 후 5초를 기다린다음 다음 기사로 넘어가라\n",
    "        except Exception as e:\n",
    "            time.sleep(1)\n",
    "            pyautogui.click(-100, 200, button='left')\n",
    "            time.sleep(1)\n",
    "            pass"
   ]
  },
  {
   "cell_type": "code",
   "execution_count": null,
   "metadata": {},
   "outputs": [],
   "source": []
  },
  {
   "cell_type": "code",
   "execution_count": null,
   "metadata": {},
   "outputs": [],
   "source": []
  },
  {
   "cell_type": "code",
   "execution_count": null,
   "metadata": {},
   "outputs": [],
   "source": []
  },
  {
   "cell_type": "code",
   "execution_count": null,
   "metadata": {},
   "outputs": [],
   "source": []
  },
  {
   "cell_type": "code",
   "execution_count": null,
   "metadata": {},
   "outputs": [],
   "source": []
  },
  {
   "cell_type": "code",
   "execution_count": null,
   "metadata": {},
   "outputs": [],
   "source": []
  },
  {
   "cell_type": "code",
   "execution_count": null,
   "metadata": {},
   "outputs": [],
   "source": []
  },
  {
   "cell_type": "code",
   "execution_count": 3,
   "metadata": {},
   "outputs": [],
   "source": [
    "def search(word):\n",
    "    #검색\n",
    "    #기간 1년으로 설정\n",
    "    a = WebDriverWait(driver, 30).until(EC.presence_of_element_located((By.CSS_SELECTOR,'#news-search-form > div > div > div > div.main-search-filters.text-left.mt-2')))\n",
    "    b = a.find_element_by_css_selector('#date-filter-btn')\n",
    "    time.sleep(1)\n",
    "    b.click()\n",
    "    driver.find_element_by_css_selector('#date-filter-div > div > div:nth-child(1) > button.btn.btn-sm.w-100.main-search-filters__dropdown__btn.date-select-btn').click()\n",
    "    driver.find_element_by_css_selector('#date-confirm-btn').click()\n",
    "    #검색어 지정\n",
    "    driver.find_element_by_css_selector('#total-search-key').send_keys(word)\n",
    "    dd = driver.find_element_by_css_selector('#news-search-form > div > div > div > div.input-group.main-search__form > span > button')\n",
    "    dd.click()\n",
    "    time.sleep(4)"
   ]
  },
  {
   "cell_type": "code",
   "execution_count": 4,
   "metadata": {},
   "outputs": [],
   "source": [
    "#경로를 만들고 만들어진 경로로 저장위치를 변경한다.\n",
    "def createdir(directory):\n",
    "    try:\n",
    "        #경로 생성\n",
    "        os.makedirs(directory)\n",
    "        #경로위치 변경\n",
    "        os.chdir(directory)\n",
    "    except OSError as e:\n",
    "        print(\"Failed to create directory!!!!!\")"
   ]
  },
  {
   "cell_type": "code",
   "execution_count": 5,
   "metadata": {},
   "outputs": [],
   "source": [
    "#기사내용 텍스트파일에 저장\n",
    "def save_csv(word,code):      \n",
    "    #해당지점에 기본형이라는 텍스트 파일을 열고 새로운 것을 이어적는다.\n",
    "    f = open('./기본형_'+word+'.txt','a',encoding='utf-8') \n",
    "    f.write(code+\"\\t\")\n",
    "    f.close()"
   ]
  },
  {
   "cell_type": "code",
   "execution_count": 6,
   "metadata": {},
   "outputs": [],
   "source": [
    "#기사내용 변형버전 텍스트파일에 저장\n",
    "def save_csv_tran(word,code):      \n",
    "    #해당지점에 변형이라는 텍스트 파일을 열고 새로운 것을 이어적는다.\n",
    "    f = open('./변형_'+word+'.txt','a',encoding='utf-8') \n",
    "    f.write(code+\"\\t\")\n",
    "    f.close()"
   ]
  },
  {
   "cell_type": "code",
   "execution_count": 7,
   "metadata": {},
   "outputs": [],
   "source": [
    "# 숫자를 입력받아서 한글로 출력하는 함수\n",
    "# 1~999\n",
    "def readNumber(n):\n",
    "    n = int(n)\n",
    "    units = [''] + list('십백천')\n",
    "    nums = '일이삼사오육칠팔구'\n",
    "    result = []\n",
    "    i = 0\n",
    "    while n > 0:\n",
    "        n, r = divmod(n, 10)\n",
    "        if r > 0:\n",
    "            result.append(nums[r-1] + units[i])\n",
    "        i += 1\n",
    "    return ''.join(result[::-1])"
   ]
  },
  {
   "cell_type": "code",
   "execution_count": 8,
   "metadata": {},
   "outputs": [],
   "source": [
    "# 1억미만의숫자까지 셀수있게만듬\n",
    "def readNumber2(n):\n",
    "    #\"\"\"1억미만의 숫자를 읽는 함수\"\"\"\n",
    "    n = int(n)\n",
    "    a, b = [readNumber(x) for x in divmod(n, 10000)]\n",
    "    if a:\n",
    "        return a + \"만\" +  b\n",
    "    return b"
   ]
  },
  {
   "cell_type": "code",
   "execution_count": 9,
   "metadata": {},
   "outputs": [],
   "source": [
    "#숫자를 한글로 변환시켜주는 함수\n",
    "def digit(a):\n",
    "    leng = len(re.findall('\\d+',a))\n",
    "    for i in range(0,leng):\n",
    "        try:\n",
    "            m = re.search(\"\\d+\",a)\n",
    "            mo = m.group()\n",
    "            a = re.sub(mo,readNumber2(mo),a)\n",
    "        #문장중에서 숫자가 포함되지 않는 문장은 a로 그대로 반환시킨다로 오류해결\n",
    "        except AttributeError:\n",
    "            return a\n",
    "    return a"
   ]
  },
  {
   "cell_type": "code",
   "execution_count": 10,
   "metadata": {},
   "outputs": [],
   "source": [
    "#한글빼고 모두 제거\n",
    "def cleanText(readData):\n",
    "    #단어나 숫자가 13자리이상인 것을 공백으로 대체한다\n",
    "    result = re.sub('[^ ㄱ-ㅣㅣ가-힣|0-9|a-z|A-Z]+','',readData)\n",
    "    result = re.sub('\\w{12,}','',result)\n",
    "    result = re.sub('div','',result)\n",
    "    result = re.sub('br','',result)\n",
    "    result = re.sub('span classquot0','',result)\n",
    "    result = re.sub('span','',result)\n",
    "    result = re.sub('classquot','',result)\n",
    "    result = re.sub('mt2','',result)\n",
    "    result = re.sub('mb2img','',result)\n",
    "    result = re.sub('alt','',result)\n",
    "    result = re.sub('16px','',result)\n",
    "    result = re.sub('h5','',result)\n",
    "    return result"
   ]
  },
  {
   "cell_type": "code",
   "execution_count": 11,
   "metadata": {},
   "outputs": [],
   "source": [
    "\n",
    "#한글빼고 모두 제거 변형버전\n",
    "def cleanText_tran(readData):\n",
    "    #단어나 숫자가 13자리이상인 것을 공백으로 대체한다\n",
    "    result = re.sub('[^ ㄱ-ㅣㅣ가-힣|0-9|a-z|A-Z]+','',readData)\n",
    "    result = re.sub('\\w{12,}','',result)\n",
    "    result = re.sub('div','',result)\n",
    "    result = re.sub('br','',result)\n",
    "    result = re.sub('span classquot0','',result)\n",
    "    result = re.sub('span','',result)\n",
    "    result = re.sub('classquot','',result)\n",
    "    result = re.sub('mt2','',result)\n",
    "    result = re.sub('mb2img','',result)\n",
    "    result = re.sub('alt','',result)\n",
    "    result = re.sub('16px','',result)\n",
    "    result = re.sub('h5','',result)\n",
    "    result = re.sub('5G','파이브지',result)\n",
    "    result = re.sub('5g','파이브지',result)\n",
    "    result = re.sub('S10','에스텐',result)\n",
    "    result = re.sub('노트10','노트텐',result)\n",
    "    result = re.sub('TB','테라바이트',result)\n",
    "    result = re.sub('GB','기가바이트',result)\n",
    "    result = re.sub('MB','메가바이트',result)\n",
    "    result = re.sub(\"㎡\",'제곱미터',result)\n",
    "    result = re.sub(\"℃\",'도',result)\n",
    "    result = re.sub(\"km\",'킬로미터',result)\n",
    "    result = re.sub(\"mm\",'미리미터',result)\n",
    "    result = re.sub(\"cm\",'센치미터',result)\n",
    "    result = re.sub('kg','키로그램',result)\n",
    "    result = re.sub(\"A\",'에이',result)\n",
    "    result = re.sub(\"B\",'비',result)\n",
    "    result = re.sub(\"C\",'시',result)\n",
    "    result = re.sub(\"D\",'디',result)\n",
    "    result = re.sub(\"E\",'이',result)\n",
    "    result = re.sub(\"F\",'에프',result)\n",
    "    result = re.sub(\"G\",'지',result)\n",
    "    result = re.sub(\"H\",'에이치',result)\n",
    "    result = re.sub(\"I\",'아이',result)\n",
    "    result = re.sub(\"J\",'제이',result)\n",
    "    result = re.sub(\"K\",'케이',result)\n",
    "    result = re.sub(\"L\",'엘',result)\n",
    "    result = re.sub(\"M\",'엠',result)\n",
    "    result = re.sub(\"N\",'엔',result)\n",
    "    result = re.sub(\"O\",'오',result)\n",
    "    result = re.sub(\"P\",'피',result)\n",
    "    result = re.sub(\"Q\",'큐',result)\n",
    "    result = re.sub(\"R\",'알',result)\n",
    "    result = re.sub(\"S\",'에스',result)\n",
    "    result = re.sub(\"T\",'티',result)\n",
    "    result = re.sub(\"U\",'유',result)\n",
    "    result = re.sub(\"V\",'브이',result)\n",
    "    result = re.sub(\"W\",'더블유',result)\n",
    "    result = re.sub(\"X\",'엑스',result)\n",
    "    result = re.sub(\"Y\",'와이',result)\n",
    "    result = re.sub(\"Z\",'제트',result)\n",
    "    result = re.sub(\"a\",'에이',result)\n",
    "    result = re.sub(\"b\",'비',result)\n",
    "    result = re.sub(\"c\",'시',result)\n",
    "    result = re.sub(\"d\",'디',result)\n",
    "    result = re.sub(\"e\",'이',result)\n",
    "    result = re.sub(\"f\",'에프',result)\n",
    "    result = re.sub(\"g\",'지',result)\n",
    "    result = re.sub(\"h\",'에이치',result)\n",
    "    result = re.sub(\"i\",'아이',result)\n",
    "    result = re.sub(\"j\",'제이',result)\n",
    "    result = re.sub(\"k\",'케이',result)  \n",
    "    result = re.sub(\"l\",'엘',result)\n",
    "    result = re.sub(\"m\",'엠',result)\n",
    "    result = re.sub(\"n\",'엔',result)\n",
    "    result = re.sub(\"o\",'오',result)\n",
    "    result = re.sub(\"p\",'피',result)\n",
    "    result = re.sub(\"q\",'큐',result)\n",
    "    result = re.sub(\"r\",'알',result)\n",
    "    result = re.sub(\"s\",'에스',result)\n",
    "    result = re.sub(\"t\",'티',result)\n",
    "    result = re.sub(\"u\",'유',result)\n",
    "    result = re.sub(\"v\",'브이',result)\n",
    "    result = re.sub(\"w\",'더블유',result)\n",
    "    result = re.sub(\"x\",'엑스',result)\n",
    "    result = re.sub(\"y\",'와이',result)\n",
    "    result = re.sub(\"z\",'제트',result)\n",
    "    result = digit(result)\n",
    "    return result"
   ]
  },
  {
   "cell_type": "code",
   "execution_count": 12,
   "metadata": {},
   "outputs": [],
   "source": [
    "#해당페이지의 기사 클릭후 문자저장 닫기 \n",
    "def auto(word):\n",
    "    for i in range(1,11):\n",
    "        time.sleep(2)\n",
    "        try:\n",
    "            #i번째 기사를 클릭한다 \n",
    "            csselector = '#news-results > div:nth-child(%s) > div.news-item__body > h4'%i\n",
    "            WebDriverWait(driver, 30).until(EC.presence_of_element_located((By.CSS_SELECTOR,csselector))).click()\n",
    "            html = driver.page_source\n",
    "            soup = BeautifulSoup(html, 'html.parser') \n",
    "            ##기사내용 지정후 한글추출이 완료되면 data에 리스트형태로 저장하고 text파일에 추가한다\n",
    "            te = soup.select('#news-detail-modal > div > div > div.modal-body > div')\n",
    "            #선택한 부분의 css_selector가 리스트형태이기에 문자형으로 바꾼다.\n",
    "            ste = str(te)\n",
    "            ste = cleanText(ste)\n",
    "            s_ste = str(te)\n",
    "            s_ste = cleanText_tran(s_ste)\n",
    "            save_csv(word,ste)\n",
    "            save_csv_tran(word,s_ste)\n",
    "            time.sleep(3)\n",
    "            WebDriverWait(driver, 30).until(EC.presence_of_element_located((By.CSS_SELECTOR,'#news-detail-modal > div > div > div.modal-header > button'))).click()\n",
    "        #에러가 발생하면 새로고침 후 5초를 기다린다음 다음 기사로 넘어가라\n",
    "        except Exception as e:\n",
    "            time.sleep(1)\n",
    "            pyautogui.click(-100, 200, button='left')\n",
    "            time.sleep(1)\n",
    "            pass"
   ]
  },
  {
   "cell_type": "code",
   "execution_count": 13,
   "metadata": {},
   "outputs": [],
   "source": [
    "#다음페이지를 클릭할때까지 30초 기다리고 클릭이 완료되면 로딩이 길기때문에 20초를 기다린다.\n",
    "def next_page():\n",
    "    try:\n",
    "        WebDriverWait(driver, 30).until(EC.presence_of_element_located((By.CSS_SELECTOR,'#news-results-pagination > ul > li:nth-child(10) > a'))).click()\n",
    "        time.sleep(20)\n",
    "    #다음페이지 클릭하였는데 오류발생시 기사에서 나와 다시 다음페이지를 클릭한다.\n",
    "    except Exception as e:\n",
    "        pyautogui.click(-100, 200, button='left')\n",
    "        time.sleep(1)\n",
    "        WebDriverWait(driver, 30).until(EC.presence_of_element_located((By.CSS_SELECTOR,'#news-results-pagination > ul > li:nth-child(10) > a'))).click()\n",
    "        time.sleep(20)\n",
    "        pass"
   ]
  },
  {
   "cell_type": "code",
   "execution_count": 14,
   "metadata": {
    "scrolled": true
   },
   "outputs": [],
   "source": [
    "#기사추출 반복문\n",
    "def bigkinds_crawler(directory,*find):\n",
    "    createdir(directory)\n",
    "    # *find에 들어가는 단어들을 차례대로 검색창에 입력한다.\n",
    "    word_list = [*find]\n",
    "    word = \"\"\n",
    "    for word in word_list:\n",
    "        search(word)\n",
    "        time.sleep(5)\n",
    "        #미구현\n",
    "        aaa = WebDriverWait(driver, 100).until(EC.presence_of_element_located((By.CSS_SELECTOR,'#news-results-pagination > ul > li:nth-child(11) > a')))\n",
    "        aaa = re.findall(\"\\d+\",aaa.text)\n",
    "        page_num = int(aaa[0])\n",
    "        start_code = 0\n",
    "        while start_code < page_num:\n",
    "            try:\n",
    "                start_code = start_code + 1\n",
    "                code = start_code\n",
    "                auto(word)\n",
    "                next_page()\n",
    "            except:\n",
    "                time.sleep(30)\n",
    "                auto(word)\n",
    "                next_page()\n",
    "                pass\n",
    "    #위의 작업이 끝나면 현재 브라우저를 종료한다\n",
    "    driver.quit()"
   ]
  },
  {
   "cell_type": "code",
   "execution_count": 15,
   "metadata": {
    "scrolled": true
   },
   "outputs": [
    {
     "name": "stdout",
     "output_type": "stream",
     "text": [
      "Failed to create directory!!!!!\n"
     ]
    },
    {
     "ename": "ElementClickInterceptedException",
     "evalue": "Message: element click intercepted: Element <button class=\"btn btn-sm btn-default main-search-filters__btn dropdown-toggle\" id=\"date-filter-btn\" type=\"button\" data-toggle=\"dropdown\">...</button> is not clickable at point (322, 280). Other element would receive the click: <a...style=\"width:100%;height:100%;top:0;left:0\" href=\"https://www.bigkinds.or.kr/news/commView.do?BOARD_SN=555&amp;TAP_NAME=18\"> </a>\n  (Session info: chrome=78.0.3904.70)\n",
     "output_type": "error",
     "traceback": [
      "\u001b[1;31m---------------------------------------------------------------------------\u001b[0m",
      "\u001b[1;31mElementClickInterceptedException\u001b[0m          Traceback (most recent call last)",
      "\u001b[1;32m<ipython-input-15-56e1bf471ff2>\u001b[0m in \u001b[0;36m<module>\u001b[1;34m\u001b[0m\n\u001b[1;32m----> 1\u001b[1;33m \u001b[0mbigkinds_crawler\u001b[0m\u001b[1;33m(\u001b[0m\u001b[1;34m\"C:/Users/park/Desktop/파이썬/example/교육\"\u001b[0m\u001b[1;33m,\u001b[0m\u001b[1;34m\"교육\"\u001b[0m\u001b[1;33m)\u001b[0m\u001b[1;33m\u001b[0m\u001b[1;33m\u001b[0m\u001b[0m\n\u001b[0m",
      "\u001b[1;32m<ipython-input-14-e3baf1788d41>\u001b[0m in \u001b[0;36mbigkinds_crawler\u001b[1;34m(directory, *find)\u001b[0m\n\u001b[0;32m      6\u001b[0m     \u001b[0mword\u001b[0m \u001b[1;33m=\u001b[0m \u001b[1;34m\"\"\u001b[0m\u001b[1;33m\u001b[0m\u001b[1;33m\u001b[0m\u001b[0m\n\u001b[0;32m      7\u001b[0m     \u001b[1;32mfor\u001b[0m \u001b[0mword\u001b[0m \u001b[1;32min\u001b[0m \u001b[0mword_list\u001b[0m\u001b[1;33m:\u001b[0m\u001b[1;33m\u001b[0m\u001b[1;33m\u001b[0m\u001b[0m\n\u001b[1;32m----> 8\u001b[1;33m         \u001b[0msearch\u001b[0m\u001b[1;33m(\u001b[0m\u001b[0mword\u001b[0m\u001b[1;33m)\u001b[0m\u001b[1;33m\u001b[0m\u001b[1;33m\u001b[0m\u001b[0m\n\u001b[0m\u001b[0;32m      9\u001b[0m         \u001b[0mtime\u001b[0m\u001b[1;33m.\u001b[0m\u001b[0msleep\u001b[0m\u001b[1;33m(\u001b[0m\u001b[1;36m5\u001b[0m\u001b[1;33m)\u001b[0m\u001b[1;33m\u001b[0m\u001b[1;33m\u001b[0m\u001b[0m\n\u001b[0;32m     10\u001b[0m         \u001b[1;31m#미구현\u001b[0m\u001b[1;33m\u001b[0m\u001b[1;33m\u001b[0m\u001b[1;33m\u001b[0m\u001b[0m\n",
      "\u001b[1;32m<ipython-input-3-67c9f07beea0>\u001b[0m in \u001b[0;36msearch\u001b[1;34m(word)\u001b[0m\n\u001b[0;32m      5\u001b[0m     \u001b[0mb\u001b[0m \u001b[1;33m=\u001b[0m \u001b[0ma\u001b[0m\u001b[1;33m.\u001b[0m\u001b[0mfind_element_by_css_selector\u001b[0m\u001b[1;33m(\u001b[0m\u001b[1;34m'#date-filter-btn'\u001b[0m\u001b[1;33m)\u001b[0m\u001b[1;33m\u001b[0m\u001b[1;33m\u001b[0m\u001b[0m\n\u001b[0;32m      6\u001b[0m     \u001b[0mtime\u001b[0m\u001b[1;33m.\u001b[0m\u001b[0msleep\u001b[0m\u001b[1;33m(\u001b[0m\u001b[1;36m1\u001b[0m\u001b[1;33m)\u001b[0m\u001b[1;33m\u001b[0m\u001b[1;33m\u001b[0m\u001b[0m\n\u001b[1;32m----> 7\u001b[1;33m     \u001b[0mb\u001b[0m\u001b[1;33m.\u001b[0m\u001b[0mclick\u001b[0m\u001b[1;33m(\u001b[0m\u001b[1;33m)\u001b[0m\u001b[1;33m\u001b[0m\u001b[1;33m\u001b[0m\u001b[0m\n\u001b[0m\u001b[0;32m      8\u001b[0m     \u001b[0mdriver\u001b[0m\u001b[1;33m.\u001b[0m\u001b[0mfind_element_by_css_selector\u001b[0m\u001b[1;33m(\u001b[0m\u001b[1;34m'#date-filter-div > div > div:nth-child(1) > button.btn.btn-sm.w-100.main-search-filters__dropdown__btn.date-select-btn'\u001b[0m\u001b[1;33m)\u001b[0m\u001b[1;33m.\u001b[0m\u001b[0mclick\u001b[0m\u001b[1;33m(\u001b[0m\u001b[1;33m)\u001b[0m\u001b[1;33m\u001b[0m\u001b[1;33m\u001b[0m\u001b[0m\n\u001b[0;32m      9\u001b[0m     \u001b[0mdriver\u001b[0m\u001b[1;33m.\u001b[0m\u001b[0mfind_element_by_css_selector\u001b[0m\u001b[1;33m(\u001b[0m\u001b[1;34m'#date-confirm-btn'\u001b[0m\u001b[1;33m)\u001b[0m\u001b[1;33m.\u001b[0m\u001b[0mclick\u001b[0m\u001b[1;33m(\u001b[0m\u001b[1;33m)\u001b[0m\u001b[1;33m\u001b[0m\u001b[1;33m\u001b[0m\u001b[0m\n",
      "\u001b[1;32mc:\\users\\park\\appdata\\local\\programs\\python\\python37-32\\lib\\site-packages\\selenium\\webdriver\\remote\\webelement.py\u001b[0m in \u001b[0;36mclick\u001b[1;34m(self)\u001b[0m\n\u001b[0;32m     78\u001b[0m     \u001b[1;32mdef\u001b[0m \u001b[0mclick\u001b[0m\u001b[1;33m(\u001b[0m\u001b[0mself\u001b[0m\u001b[1;33m)\u001b[0m\u001b[1;33m:\u001b[0m\u001b[1;33m\u001b[0m\u001b[1;33m\u001b[0m\u001b[0m\n\u001b[0;32m     79\u001b[0m         \u001b[1;34m\"\"\"Clicks the element.\"\"\"\u001b[0m\u001b[1;33m\u001b[0m\u001b[1;33m\u001b[0m\u001b[0m\n\u001b[1;32m---> 80\u001b[1;33m         \u001b[0mself\u001b[0m\u001b[1;33m.\u001b[0m\u001b[0m_execute\u001b[0m\u001b[1;33m(\u001b[0m\u001b[0mCommand\u001b[0m\u001b[1;33m.\u001b[0m\u001b[0mCLICK_ELEMENT\u001b[0m\u001b[1;33m)\u001b[0m\u001b[1;33m\u001b[0m\u001b[1;33m\u001b[0m\u001b[0m\n\u001b[0m\u001b[0;32m     81\u001b[0m \u001b[1;33m\u001b[0m\u001b[0m\n\u001b[0;32m     82\u001b[0m     \u001b[1;32mdef\u001b[0m \u001b[0msubmit\u001b[0m\u001b[1;33m(\u001b[0m\u001b[0mself\u001b[0m\u001b[1;33m)\u001b[0m\u001b[1;33m:\u001b[0m\u001b[1;33m\u001b[0m\u001b[1;33m\u001b[0m\u001b[0m\n",
      "\u001b[1;32mc:\\users\\park\\appdata\\local\\programs\\python\\python37-32\\lib\\site-packages\\selenium\\webdriver\\remote\\webelement.py\u001b[0m in \u001b[0;36m_execute\u001b[1;34m(self, command, params)\u001b[0m\n\u001b[0;32m    631\u001b[0m             \u001b[0mparams\u001b[0m \u001b[1;33m=\u001b[0m \u001b[1;33m{\u001b[0m\u001b[1;33m}\u001b[0m\u001b[1;33m\u001b[0m\u001b[1;33m\u001b[0m\u001b[0m\n\u001b[0;32m    632\u001b[0m         \u001b[0mparams\u001b[0m\u001b[1;33m[\u001b[0m\u001b[1;34m'id'\u001b[0m\u001b[1;33m]\u001b[0m \u001b[1;33m=\u001b[0m \u001b[0mself\u001b[0m\u001b[1;33m.\u001b[0m\u001b[0m_id\u001b[0m\u001b[1;33m\u001b[0m\u001b[1;33m\u001b[0m\u001b[0m\n\u001b[1;32m--> 633\u001b[1;33m         \u001b[1;32mreturn\u001b[0m \u001b[0mself\u001b[0m\u001b[1;33m.\u001b[0m\u001b[0m_parent\u001b[0m\u001b[1;33m.\u001b[0m\u001b[0mexecute\u001b[0m\u001b[1;33m(\u001b[0m\u001b[0mcommand\u001b[0m\u001b[1;33m,\u001b[0m \u001b[0mparams\u001b[0m\u001b[1;33m)\u001b[0m\u001b[1;33m\u001b[0m\u001b[1;33m\u001b[0m\u001b[0m\n\u001b[0m\u001b[0;32m    634\u001b[0m \u001b[1;33m\u001b[0m\u001b[0m\n\u001b[0;32m    635\u001b[0m     \u001b[1;32mdef\u001b[0m \u001b[0mfind_element\u001b[0m\u001b[1;33m(\u001b[0m\u001b[0mself\u001b[0m\u001b[1;33m,\u001b[0m \u001b[0mby\u001b[0m\u001b[1;33m=\u001b[0m\u001b[0mBy\u001b[0m\u001b[1;33m.\u001b[0m\u001b[0mID\u001b[0m\u001b[1;33m,\u001b[0m \u001b[0mvalue\u001b[0m\u001b[1;33m=\u001b[0m\u001b[1;32mNone\u001b[0m\u001b[1;33m)\u001b[0m\u001b[1;33m:\u001b[0m\u001b[1;33m\u001b[0m\u001b[1;33m\u001b[0m\u001b[0m\n",
      "\u001b[1;32mc:\\users\\park\\appdata\\local\\programs\\python\\python37-32\\lib\\site-packages\\selenium\\webdriver\\remote\\webdriver.py\u001b[0m in \u001b[0;36mexecute\u001b[1;34m(self, driver_command, params)\u001b[0m\n\u001b[0;32m    319\u001b[0m         \u001b[0mresponse\u001b[0m \u001b[1;33m=\u001b[0m \u001b[0mself\u001b[0m\u001b[1;33m.\u001b[0m\u001b[0mcommand_executor\u001b[0m\u001b[1;33m.\u001b[0m\u001b[0mexecute\u001b[0m\u001b[1;33m(\u001b[0m\u001b[0mdriver_command\u001b[0m\u001b[1;33m,\u001b[0m \u001b[0mparams\u001b[0m\u001b[1;33m)\u001b[0m\u001b[1;33m\u001b[0m\u001b[1;33m\u001b[0m\u001b[0m\n\u001b[0;32m    320\u001b[0m         \u001b[1;32mif\u001b[0m \u001b[0mresponse\u001b[0m\u001b[1;33m:\u001b[0m\u001b[1;33m\u001b[0m\u001b[1;33m\u001b[0m\u001b[0m\n\u001b[1;32m--> 321\u001b[1;33m             \u001b[0mself\u001b[0m\u001b[1;33m.\u001b[0m\u001b[0merror_handler\u001b[0m\u001b[1;33m.\u001b[0m\u001b[0mcheck_response\u001b[0m\u001b[1;33m(\u001b[0m\u001b[0mresponse\u001b[0m\u001b[1;33m)\u001b[0m\u001b[1;33m\u001b[0m\u001b[1;33m\u001b[0m\u001b[0m\n\u001b[0m\u001b[0;32m    322\u001b[0m             response['value'] = self._unwrap_value(\n\u001b[0;32m    323\u001b[0m                 response.get('value', None))\n",
      "\u001b[1;32mc:\\users\\park\\appdata\\local\\programs\\python\\python37-32\\lib\\site-packages\\selenium\\webdriver\\remote\\errorhandler.py\u001b[0m in \u001b[0;36mcheck_response\u001b[1;34m(self, response)\u001b[0m\n\u001b[0;32m    240\u001b[0m                 \u001b[0malert_text\u001b[0m \u001b[1;33m=\u001b[0m \u001b[0mvalue\u001b[0m\u001b[1;33m[\u001b[0m\u001b[1;34m'alert'\u001b[0m\u001b[1;33m]\u001b[0m\u001b[1;33m.\u001b[0m\u001b[0mget\u001b[0m\u001b[1;33m(\u001b[0m\u001b[1;34m'text'\u001b[0m\u001b[1;33m)\u001b[0m\u001b[1;33m\u001b[0m\u001b[1;33m\u001b[0m\u001b[0m\n\u001b[0;32m    241\u001b[0m             \u001b[1;32mraise\u001b[0m \u001b[0mexception_class\u001b[0m\u001b[1;33m(\u001b[0m\u001b[0mmessage\u001b[0m\u001b[1;33m,\u001b[0m \u001b[0mscreen\u001b[0m\u001b[1;33m,\u001b[0m \u001b[0mstacktrace\u001b[0m\u001b[1;33m,\u001b[0m \u001b[0malert_text\u001b[0m\u001b[1;33m)\u001b[0m\u001b[1;33m\u001b[0m\u001b[1;33m\u001b[0m\u001b[0m\n\u001b[1;32m--> 242\u001b[1;33m         \u001b[1;32mraise\u001b[0m \u001b[0mexception_class\u001b[0m\u001b[1;33m(\u001b[0m\u001b[0mmessage\u001b[0m\u001b[1;33m,\u001b[0m \u001b[0mscreen\u001b[0m\u001b[1;33m,\u001b[0m \u001b[0mstacktrace\u001b[0m\u001b[1;33m)\u001b[0m\u001b[1;33m\u001b[0m\u001b[1;33m\u001b[0m\u001b[0m\n\u001b[0m\u001b[0;32m    243\u001b[0m \u001b[1;33m\u001b[0m\u001b[0m\n\u001b[0;32m    244\u001b[0m     \u001b[1;32mdef\u001b[0m \u001b[0m_value_or_default\u001b[0m\u001b[1;33m(\u001b[0m\u001b[0mself\u001b[0m\u001b[1;33m,\u001b[0m \u001b[0mobj\u001b[0m\u001b[1;33m,\u001b[0m \u001b[0mkey\u001b[0m\u001b[1;33m,\u001b[0m \u001b[0mdefault\u001b[0m\u001b[1;33m)\u001b[0m\u001b[1;33m:\u001b[0m\u001b[1;33m\u001b[0m\u001b[1;33m\u001b[0m\u001b[0m\n",
      "\u001b[1;31mElementClickInterceptedException\u001b[0m: Message: element click intercepted: Element <button class=\"btn btn-sm btn-default main-search-filters__btn dropdown-toggle\" id=\"date-filter-btn\" type=\"button\" data-toggle=\"dropdown\">...</button> is not clickable at point (322, 280). Other element would receive the click: <a...style=\"width:100%;height:100%;top:0;left:0\" href=\"https://www.bigkinds.or.kr/news/commView.do?BOARD_SN=555&amp;TAP_NAME=18\"> </a>\n  (Session info: chrome=78.0.3904.70)\n"
     ]
    }
   ],
   "source": [
    "bigkinds_crawler(\"C:/Users/park/Desktop/파이썬/example/교육\",\"교육\")"
   ]
  },
  {
   "cell_type": "code",
   "execution_count": null,
   "metadata": {},
   "outputs": [],
   "source": [
    "print(\"*\"*50+\"연습선\"+\"*\"*50)"
   ]
  },
  {
   "cell_type": "code",
   "execution_count": null,
   "metadata": {},
   "outputs": [],
   "source": []
  }
 ],
 "metadata": {
  "kernelspec": {
   "display_name": "Python 3",
   "language": "python",
   "name": "python3"
  },
  "language_info": {
   "codemirror_mode": {
    "name": "ipython",
    "version": 3
   },
   "file_extension": ".py",
   "mimetype": "text/x-python",
   "name": "python",
   "nbconvert_exporter": "python",
   "pygments_lexer": "ipython3",
   "version": "3.7.3"
  }
 },
 "nbformat": 4,
 "nbformat_minor": 2
}
