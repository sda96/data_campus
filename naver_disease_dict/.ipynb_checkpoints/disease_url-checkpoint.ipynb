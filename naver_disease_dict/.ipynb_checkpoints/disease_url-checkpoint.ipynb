{
 "cells": [
  {
   "cell_type": "code",
   "execution_count": 2,
   "metadata": {},
   "outputs": [],
   "source": [
    "# Chrome의 경우 | 아까 받은 chromedriver의 위치를 지정해준다.\n",
    "import sys\n",
    "import os\n",
    "if not sys.modules.get('selenium'):\n",
    "    os.system('pip3 install selenium')\n",
    "from selenium import webdriver\n",
    "if not sys.modules.get('requests'):\n",
    "    os.system('pip3 install requests')\n",
    "    import requests\n",
    "if not sys.modules.get('bs4'):\n",
    "    os.system('pip3 install bs4')\n",
    "    from bs4 import BeautifulSoup\n",
    "from selenium.webdriver.support.ui import WebDriverWait\n",
    "from selenium.webdriver.support import expected_conditions as EC\n",
    "import time\n",
    "import pandas as pd\n",
    "from selenium.webdriver.common.action_chains import ActionChains\n",
    "import numpy as np\n",
    "from selenium.webdriver.common.keys import Keys\n",
    "from selenium.webdriver.chrome.options import Options\n",
    "from selenium.webdriver.support.ui import WebDriverWait\n",
    "# expected_conditions는 Selenium 2.26.0 이후 부터 사용 가능합니다.\n",
    "from selenium.webdriver.support import expected_conditions as EC\n",
    "from selenium.webdriver.common.by import By\n",
    "import re \n",
    "if not sys.modules.get('pyautogui'):\n",
    "    os.system('pip3 install pyautogui')\n",
    "    import pyautogui"
   ]
  },
  {
   "cell_type": "code",
   "execution_count": 15,
   "metadata": {},
   "outputs": [],
   "source": [
    "#빅카인즈 사이트 접속이 3초 소요된다.\n",
    "driver = webdriver.Chrome(\"./chromedriver.exe\")\n",
    "driver.implicitly_wait(3)\n",
    "driver.get('https://terms.naver.com/list.nhn?cid=60407&categoryId=60407&page=1')"
   ]
  },
  {
   "cell_type": "code",
   "execution_count": 35,
   "metadata": {},
   "outputs": [
    {
     "ename": "TypeError",
     "evalue": "can only concatenate list (not \"str\") to list",
     "output_type": "error",
     "traceback": [
      "\u001b[1;31m---------------------------------------------------------------------------\u001b[0m",
      "\u001b[1;31mKeyboardInterrupt\u001b[0m                         Traceback (most recent call last)",
      "\u001b[1;32m<ipython-input-35-803973c8f495>\u001b[0m in \u001b[0;36m<module>\u001b[1;34m\u001b[0m\n\u001b[0;32m      5\u001b[0m     \u001b[1;32mtry\u001b[0m\u001b[1;33m:\u001b[0m\u001b[1;33m\u001b[0m\u001b[1;33m\u001b[0m\u001b[0m\n\u001b[1;32m----> 6\u001b[1;33m         \u001b[0mtime\u001b[0m\u001b[1;33m.\u001b[0m\u001b[0msleep\u001b[0m\u001b[1;33m(\u001b[0m\u001b[1;36m2\u001b[0m\u001b[1;33m)\u001b[0m\u001b[1;33m\u001b[0m\u001b[1;33m\u001b[0m\u001b[0m\n\u001b[0m\u001b[0;32m      7\u001b[0m         \u001b[0murl\u001b[0m \u001b[1;33m=\u001b[0m \u001b[1;33m[\u001b[0m\u001b[1;33m]\u001b[0m\u001b[1;33m\u001b[0m\u001b[1;33m\u001b[0m\u001b[0m\n",
      "\u001b[1;31mKeyboardInterrupt\u001b[0m: ",
      "\nDuring handling of the above exception, another exception occurred:\n",
      "\u001b[1;31mTypeError\u001b[0m                                 Traceback (most recent call last)",
      "\u001b[1;32m<ipython-input-35-803973c8f495>\u001b[0m in \u001b[0;36m<module>\u001b[1;34m\u001b[0m\n\u001b[0;32m     16\u001b[0m         \u001b[0mdriver\u001b[0m\u001b[1;33m.\u001b[0m\u001b[0mget\u001b[0m\u001b[1;33m(\u001b[0m\u001b[1;34m\"https://terms.naver.com/list.nhn?cid=60407&categoryId=60407&page=\"\u001b[0m \u001b[1;33m+\u001b[0m \u001b[0mstr\u001b[0m\u001b[1;33m(\u001b[0m\u001b[0mi\u001b[0m\u001b[1;33m)\u001b[0m\u001b[1;33m)\u001b[0m\u001b[1;33m\u001b[0m\u001b[1;33m\u001b[0m\u001b[0m\n\u001b[0;32m     17\u001b[0m     \u001b[1;32mexcept\u001b[0m\u001b[1;33m:\u001b[0m\u001b[1;33m\u001b[0m\u001b[1;33m\u001b[0m\u001b[0m\n\u001b[1;32m---> 18\u001b[1;33m         \u001b[0mtotal_url\u001b[0m \u001b[1;33m=\u001b[0m \u001b[0msum\u001b[0m\u001b[1;33m(\u001b[0m\u001b[0mtotal_url\u001b[0m\u001b[1;33m,\u001b[0m\u001b[1;33m[\u001b[0m\u001b[1;33m]\u001b[0m\u001b[1;33m)\u001b[0m\u001b[1;33m\u001b[0m\u001b[1;33m\u001b[0m\u001b[0m\n\u001b[0m\u001b[0;32m     19\u001b[0m         \u001b[0mtotal_title\u001b[0m \u001b[1;33m=\u001b[0m \u001b[0msum\u001b[0m\u001b[1;33m(\u001b[0m\u001b[0mtotal_title\u001b[0m\u001b[1;33m,\u001b[0m\u001b[1;33m[\u001b[0m\u001b[1;33m]\u001b[0m\u001b[1;33m)\u001b[0m\u001b[1;33m\u001b[0m\u001b[1;33m\u001b[0m\u001b[0m\n\u001b[0;32m     20\u001b[0m         \u001b[0mdata_frame\u001b[0m \u001b[1;33m=\u001b[0m \u001b[0mpd\u001b[0m\u001b[1;33m.\u001b[0m\u001b[0mDataFrame\u001b[0m\u001b[1;33m(\u001b[0m\u001b[1;33m{\u001b[0m\u001b[1;34m\"title\"\u001b[0m\u001b[1;33m:\u001b[0m\u001b[0mtotal_title\u001b[0m\u001b[1;33m,\u001b[0m\u001b[1;34m\"url\"\u001b[0m\u001b[1;33m:\u001b[0m\u001b[0mtotal_url\u001b[0m\u001b[1;33m}\u001b[0m\u001b[1;33m)\u001b[0m\u001b[1;33m\u001b[0m\u001b[1;33m\u001b[0m\u001b[0m\n",
      "\u001b[1;31mTypeError\u001b[0m: can only concatenate list (not \"str\") to list"
     ]
    }
   ],
   "source": [
    "total_url = []\n",
    "total_title = []\n",
    "i = 0\n",
    "while True:\n",
    "    try:\n",
    "        time.sleep(2)\n",
    "        url = []\n",
    "        post_contents = driver.find_element_by_css_selector(\"#content > div.list_wrap > ul\")\n",
    "        list_url = post_contents.find_elements_by_css_selector(\"div.info_area > div.subject > strong > a:nth-child(1)\")\n",
    "        title = [g.text for g in list_url]\n",
    "        url = [k.get_attribute(\"href\") for k in list_url ]\n",
    "        total_url.append(url)\n",
    "        total_title.append(title)\n",
    "        time.sleep(1)\n",
    "        i += 1\n",
    "        driver.get(\"https://terms.naver.com/list.nhn?cid=60407&categoryId=60407&page=\" + str(i))\n",
    "    except:\n",
    "        total_url = sum(total_url,[])\n",
    "        total_title = sum(total_title,[])\n",
    "        data_frame = pd.DataFrame({\"title\":total_title,\"url\":total_url})"
   ]
  },
  {
   "cell_type": "code",
   "execution_count": 52,
   "metadata": {},
   "outputs": [],
   "source": [
    "data_frame.to_csv(\"sample.csv\",encoding=\"utf-8\")"
   ]
  },
  {
   "cell_type": "code",
   "execution_count": 54,
   "metadata": {},
   "outputs": [
    {
     "data": {
      "text/html": [
       "<div>\n",
       "<style scoped>\n",
       "    .dataframe tbody tr th:only-of-type {\n",
       "        vertical-align: middle;\n",
       "    }\n",
       "\n",
       "    .dataframe tbody tr th {\n",
       "        vertical-align: top;\n",
       "    }\n",
       "\n",
       "    .dataframe thead th {\n",
       "        text-align: right;\n",
       "    }\n",
       "</style>\n",
       "<table border=\"1\" class=\"dataframe\">\n",
       "  <thead>\n",
       "    <tr style=\"text-align: right;\">\n",
       "      <th></th>\n",
       "      <th>title</th>\n",
       "      <th>url</th>\n",
       "    </tr>\n",
       "  </thead>\n",
       "  <tbody>\n",
       "    <tr>\n",
       "      <th>3834</th>\n",
       "      <td>GM₃-강글리오시드증 [GM₃-gangliosidosis]</td>\n",
       "      <td>https://terms.naver.com/entry.nhn?docId=564750...</td>\n",
       "    </tr>\n",
       "    <tr>\n",
       "      <th>3835</th>\n",
       "      <td>염증성 장질환을 진단하는 검사 중 산모에게 안전한 것은 무엇입니까?</td>\n",
       "      <td>https://terms.naver.com/entry.nhn?docId=283642...</td>\n",
       "    </tr>\n",
       "    <tr>\n",
       "      <th>3836</th>\n",
       "      <td>전립선 마사지 [prostate massage]</td>\n",
       "      <td>https://terms.naver.com/entry.nhn?docId=927714...</td>\n",
       "    </tr>\n",
       "    <tr>\n",
       "      <th>3837</th>\n",
       "      <td>[어머니가 염증성 장질환 환자인 경우 자식들에서 이들 질환이 흔합니까?, 사르코신혈...</td>\n",
       "      <td>[https://terms.naver.com/entry.nhn?docId=28364...</td>\n",
       "    </tr>\n",
       "    <tr>\n",
       "      <th>3838</th>\n",
       "      <td>[어머니가 염증성 장질환 환자인 경우 자식들에서 이들 질환이 흔합니까?, 사르코신혈...</td>\n",
       "      <td>[https://terms.naver.com/entry.nhn?docId=28364...</td>\n",
       "    </tr>\n",
       "  </tbody>\n",
       "</table>\n",
       "</div>"
      ],
      "text/plain": [
       "                                                  title  \\\n",
       "3834                   GM₃-강글리오시드증 [GM₃-gangliosidosis]   \n",
       "3835              염증성 장질환을 진단하는 검사 중 산모에게 안전한 것은 무엇입니까?   \n",
       "3836                         전립선 마사지 [prostate massage]   \n",
       "3837  [어머니가 염증성 장질환 환자인 경우 자식들에서 이들 질환이 흔합니까?, 사르코신혈...   \n",
       "3838  [어머니가 염증성 장질환 환자인 경우 자식들에서 이들 질환이 흔합니까?, 사르코신혈...   \n",
       "\n",
       "                                                    url  \n",
       "3834  https://terms.naver.com/entry.nhn?docId=564750...  \n",
       "3835  https://terms.naver.com/entry.nhn?docId=283642...  \n",
       "3836  https://terms.naver.com/entry.nhn?docId=927714...  \n",
       "3837  [https://terms.naver.com/entry.nhn?docId=28364...  \n",
       "3838  [https://terms.naver.com/entry.nhn?docId=28364...  "
      ]
     },
     "execution_count": 54,
     "metadata": {},
     "output_type": "execute_result"
    }
   ],
   "source": [
    "data_frame.tail(5)"
   ]
  },
  {
   "cell_type": "code",
   "execution_count": 64,
   "metadata": {},
   "outputs": [
    {
     "data": {
      "text/plain": [
       "title                                          귀의 통증 및 분비물\n",
       "url      https://terms.naver.com/entry.nhn?docId=555055...\n",
       "Name: 124, dtype: object"
      ]
     },
     "execution_count": 64,
     "metadata": {},
     "output_type": "execute_result"
    }
   ],
   "source": [
    "data_frame.iloc[124,:]"
   ]
  },
  {
   "cell_type": "code",
   "execution_count": 65,
   "metadata": {},
   "outputs": [],
   "source": [
    "data_frame.iloc[:3836,:].drop_duplicates().to_excel(\"disease_url1.xlsx\",encoding=\"euc-kr\")"
   ]
  }
 ],
 "metadata": {
  "kernelspec": {
   "display_name": "crawler",
   "language": "python",
   "name": "crawler"
  },
  "language_info": {
   "codemirror_mode": {
    "name": "ipython",
    "version": 3
   },
   "file_extension": ".py",
   "mimetype": "text/x-python",
   "name": "python",
   "nbconvert_exporter": "python",
   "pygments_lexer": "ipython3",
   "version": "3.7.3"
  }
 },
 "nbformat": 4,
 "nbformat_minor": 4
}
