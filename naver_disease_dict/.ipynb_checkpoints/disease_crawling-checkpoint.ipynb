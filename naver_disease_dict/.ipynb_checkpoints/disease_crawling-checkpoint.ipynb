{
 "cells": [
  {
   "cell_type": "code",
   "execution_count": 4,
   "metadata": {},
   "outputs": [],
   "source": [
    "# Chrome의 경우 | 아까 받은 chromedriver의 위치를 지정해준다.\n",
    "import sys\n",
    "import os\n",
    "if not sys.modules.get('selenium'):\n",
    "    os.system('pip3 install selenium')\n",
    "from selenium import webdriver\n",
    "if not sys.modules.get('requests'):\n",
    "    os.system('pip3 install requests')\n",
    "    import requests\n",
    "if not sys.modules.get('bs4'):\n",
    "    os.system('pip3 install bs4')\n",
    "    from bs4 import BeautifulSoup\n",
    "from selenium.webdriver.support.ui import WebDriverWait\n",
    "from selenium.webdriver.support import expected_conditions as EC\n",
    "import time\n",
    "import pandas as pd\n",
    "from selenium.webdriver.common.action_chains import ActionChains\n",
    "import numpy as np\n",
    "from selenium.webdriver.common.keys import Keys\n",
    "from selenium.webdriver.chrome.options import Options\n",
    "from selenium.webdriver.support.ui import WebDriverWait\n",
    "# expected_conditions는 Selenium 2.26.0 이후 부터 사용 가능합니다.\n",
    "from selenium.webdriver.support import expected_conditions as EC\n",
    "from selenium.webdriver.common.by import By\n",
    "import re \n",
    "if not sys.modules.get('pyautogui'):\n",
    "    os.system('pip3 install pyautogui')\n",
    "    import pyautogui\n",
    "import openpyxl"
   ]
  },
  {
   "cell_type": "code",
   "execution_count": 2,
   "metadata": {},
   "outputs": [],
   "source": [
    "#빅카인즈 사이트 접속이 3초 소요된다.\n",
    "driver = webdriver.Chrome(\"./chromedriver.exe\")\n",
    "driver.implicitly_wait(3)\n",
    "driver.get('https://terms.naver.com/list.nhn?cid=60407&categoryId=60407&page=1')"
   ]
  },
  {
   "cell_type": "code",
   "execution_count": 8,
   "metadata": {},
   "outputs": [],
   "source": [
    "urls = pd.read_excel(\"disease_url1.xlsx\")\n",
    "urls = urls.drop_duplicates([\"url\"])\n",
    "urls.to_excel(\"disease_url2.xlsx\")"
   ]
  },
  {
   "cell_type": "code",
   "execution_count": 48,
   "metadata": {},
   "outputs": [],
   "source": [
    "driver.get(urls.url[0])"
   ]
  },
  {
   "cell_type": "code",
   "execution_count": 49,
   "metadata": {},
   "outputs": [],
   "source": [
    "contents = driver.find_element_by_css_selector(\"#content > div.section_wrap\")\n",
    "disease_name = contents.find_element_by_css_selector(\"h2\").text\n",
    "full_contents = contents.find_elements_by_css_selector(\"p\")\n",
    "full_contents = [x.text for x in full_contents]\n",
    "full_contents = \" \".join(full_contents)\n",
    "source = contents.find_element_by_css_selector(\"div.section_area > div\").text"
   ]
  },
  {
   "cell_type": "code",
   "execution_count": 96,
   "metadata": {},
   "outputs": [
    {
     "data": {
      "text/plain": [
       "['개요', '정의', '원인', '증상', '진단', '치료', '환자들이 자주하는 질문', '기타정보']"
      ]
     },
     "execution_count": 96,
     "metadata": {},
     "output_type": "execute_result"
    }
   ],
   "source": [
    "preview = driver.find_element_by_css_selector(\"#size_ct > div.tmp_agenda > ol\")\n",
    "detail_contents = preview.find_elements_by_css_selector(\"li\")\n",
    "detail_contents = [y.text for y in detail_contents]"
   ]
  },
  {
   "cell_type": "code",
   "execution_count": 166,
   "metadata": {},
   "outputs": [],
   "source": [
    "import re\n",
    "json = {}\n",
    "for i in range(0,len(detail_contents)):\n",
    "    html = driver.page_source\n",
    "    soup = BeautifulSoup(html, 'html.parser') \n",
    "    ##기사내용 지정후 한글추출이 완료되면 data에 리스트형태로 저장하고 text파일에 추가한다\n",
    "    te = soup.select('#size_ct')\n",
    "    ste = str(te)\n",
    "    index = [(m.start(0), m.end(0)) for m in re.finditer('<h3 class=\"stress\"',ste)]\n",
    "    try:\n",
    "        json.update({detail_contents[i] : ste[index[i][0]:index[i+1][0]]})\n",
    "    except:\n",
    "        json.update({detail_contents[i] : ste[index[i][0]:len(ste)]})\n",
    "    i += 1"
   ]
  },
  {
   "cell_type": "code",
   "execution_count": 167,
   "metadata": {},
   "outputs": [
    {
     "data": {
      "text/plain": [
       "{'개요': '<h3 class=\"stress\" id=\"TABLE_OF_CONTENT1\" style=\"-webkit-tap-highlight-color: rgba(0,0,0,0)\">개요</h3>\\n<p class=\"txt\" style=\"-webkit-tap-highlight-color: rgba(0,0,0,0)\">우울증은 흔한 정신질환으로 성적 저하, 원활하지 못한 대인관계, 휴학 등 여러 가지 문제를 야기할 수 있으며, 심한 경우 자살이라는 심각한 결과에 이를 수 있는 뇌질환입니다.</p>\\n<p class=\"txt\" style=\"-webkit-tap-highlight-color: rgba(0,0,0,0)\">다행히 우울증은 효과적으로 치료될 수 있는 질환으로 초기 완쾌율이 2개월 내에 70-80%에 이르는 의학적 질환입니다. 우울증에는 상담과 정신과 치료가 필수적이며, 중증도 이상의 우울증은 항우울제 투여도 반드시 필요합니다. 특히, 최근 개발된 항우울제들은 뇌내의 저하된 세로토닌을증가시켜 우울 증상을 호전시키고, 부작용이 거의 없이 안전하게 우울증을 개선할 수 있습니다.</p>\\n',\n",
       " '정의': '<h3 class=\"stress\" id=\"TABLE_OF_CONTENT2\" style=\"-webkit-tap-highlight-color: rgba(0,0,0,0)\">정의</h3>\\n<p class=\"txt\" style=\"-webkit-tap-highlight-color: rgba(0,0,0,0)\">우울한 기분은 누구나 일상 생활에서 흔히 느낄 수 있습니다. 하지만 정신의학에서 말하는 우울증이란 일시적으로 기분만 저하된 상태를 뜻하는 것이 아니라 생각의 내용, 사고과정, 동기, 의욕, 관심, 행동, 수면, 신체활동 등 전반적인 정신기능이 저하된 상태를 말합니다. 이러한 증상이 거의 매일, 거의 하루 종일 나타나는 경우 우울증이라 하고 이 경우에는 단순한 기분 전환이 아닌 전문적인 치료가 필요합니다.</p>\\n<div class=\"thmb c\">\\n<a href=\"/imageDetail.nhn?docId=2119852&amp;imageUrl=https%3A%2F%2Fdbscthumb-phinf.pstatic.net%2F1983_000_3%2F20180423171040832_HTAJ0N17Y.jpg%2Fs02_132_i01.jpg%3Ftype%3Dm4500_4500_fst%26wm%3DN\" onclick=\"clickcr(this, \\'bdy.imgal\\', \\'\\', \\'\\', event);\" target=\"_blank\"><img alt=\"우울한 기분과 우울증의 차이\" data-font-image=\"false\" data-seq=\"1\" data-title=\"\" desc=\"\" hastitle=\"Y\" height=\"424\" origin_height=\"440\" origin_src=\"https://dbscthumb-phinf.pstatic.net/1983_000_3/20180423171040832_HTAJ0N17Y.jpg/s02_132_i01.jpg?type=m4500_4500_fst&amp;wm=N\" origin_width=\"550\" source=\"국가건강정보포털 의학정보\" src=\"https://dbscthumb-phinf.pstatic.net/1983_000_3/20180423171040832_HTAJ0N17Y.jpg/s02_132_i01.jpg?type=w530_fst&amp;wm=N\" width=\"530\"/></a>\\n</div>\\n',\n",
       " '원인': '<h3 class=\"stress\" id=\"TABLE_OF_CONTENT3\" style=\"-webkit-tap-highlight-color: rgba(0,0,0,0)\">원인</h3>\\n<p class=\"txt\" style=\"-webkit-tap-highlight-color: rgba(0,0,0,0)\"><strong>1. 생물학적 원인</strong></p>\\n<p class=\"txt\" style=\"-webkit-tap-highlight-color: rgba(0,0,0,0)\">우울증은 뇌의 신경전달물질의 불균형으로 인해 초래됩니다. 흔히 세로토닌이라는 뇌내 신경전달물질의 저하가 우울증과 관련됩니다. 항우울제는 이러한 신경전달물질을 조절하여 우울증의 원인을 치료합니다.</p>\\n<p class=\"txt\" style=\"-webkit-tap-highlight-color: rgba(0,0,0,0)\"><strong>2. 유전적 원인</strong></p>\\n<p class=\"txt\" style=\"-webkit-tap-highlight-color: rgba(0,0,0,0)\">우울증은 유전 질환이 아닙니다. 다만, 우울증이 있는 부모나 형제, 친척이 있다면 우울증에 걸릴 확률은 일반인에 비해 약간 높을 수 있습니다.</p>\\n<p class=\"txt\" style=\"-webkit-tap-highlight-color: rgba(0,0,0,0)\"><strong>3. 생활 및 환경 스트레스</strong></p>\\n<p class=\"txt\" style=\"-webkit-tap-highlight-color: rgba(0,0,0,0)\">사랑하는 사람의 죽음, 이별, 외로움, 실직, 경제적인 걱정과 같은 스트레스가 우울증을 유발하거나 악화시킬 수 있습니다.</p>\\n<p class=\"txt\" style=\"-webkit-tap-highlight-color: rgba(0,0,0,0)\"><strong>4. 신체적 질환이나 약물</strong></p>\\n<p class=\"txt\" style=\"-webkit-tap-highlight-color: rgba(0,0,0,0)\">암, 내분비계 질환, 뇌졸중 등 다양한 질환이 우울증을 유발할 수 있습니다. 심지어 치료약물도 일부 우울증을 유발할 수 있습니다. 병원에입원한 내외과계열 환자의 20% 이상이 치료가 필요한 우울증이라는 보고가 있습니다. 이러한 우울증은 원인을 치료하면 우울증도 호전될 수 있기 때문에 반드시 감별진단 할 필요성이 있습니다.</p>\\n<div class=\"thmb c\">\\n<a href=\"/imageDetail.nhn?docId=2119852&amp;imageUrl=https%3A%2F%2Fdbscthumb-phinf.pstatic.net%2F1983_000_3%2F20180423171104439_DDVWO0NU0.jpg%2Fs02_132_i02.jpg%3Ftype%3Dm4500_4500_fst%26wm%3DN\" onclick=\"clickcr(this, \\'bdy.imgal\\', \\'\\', \\'\\', event);\" target=\"_blank\"><img alt=\"신체질환이나 약물에 의한 우울증\" data-font-image=\"false\" data-seq=\"2\" data-title=\"\" desc=\"\" hastitle=\"Y\" height=\"729\" origin_height=\"756\" origin_src=\"https://dbscthumb-phinf.pstatic.net/1983_000_3/20180423171104439_DDVWO0NU0.jpg/s02_132_i02.jpg?type=m4500_4500_fst&amp;wm=N\" origin_width=\"550\" source=\"국가건강정보포털 의학정보\" src=\"https://dbscthumb-phinf.pstatic.net/1983_000_3/20180423171104439_DDVWO0NU0.jpg/s02_132_i02.jpg?type=w530_fst&amp;wm=N\" width=\"530\"/></a>\\n</div>\\n',\n",
       " '증상': '<h3 class=\"stress\" id=\"TABLE_OF_CONTENT4\" style=\"-webkit-tap-highlight-color: rgba(0,0,0,0)\">증상</h3>\\n<p class=\"txt\" style=\"-webkit-tap-highlight-color: rgba(0,0,0,0)\"><strong>1. 주요 증상</strong></p>\\n<p class=\"txt\" style=\"-webkit-tap-highlight-color: rgba(0,0,0,0)\">• 지속적인 우울감<br/>• 의욕 저하, 흥미의 저하<br/>• 불면증 등 수면장애<br/>• 식욕 저하 또는 식욕증가와 관련된 체중변화<br/>• 주의집중력 저하<br/>• 자살에 대한 반복적인 생각, 자살시도<br/>• 부정적 사고, 무가치감, 지나친 죄책감<br/>• 일상생활 기능의 저하, 학업능력저하, 휴학, 생산성 저하, 가족 갈등, 이혼 등</p>\\n<p class=\"txt\" style=\"-webkit-tap-highlight-color: rgba(0,0,0,0)\">우울증에 걸리면 이전에 스트레스를 극복할 때 사용하던 방법들 예를 들어 영화를 보거나 친구를 만나도 즐겁지 않게 되어 나는 이를 극복할 수 없을 것 같고, 이러한 괴로움이 앞으로도 영원히 지속될 것처럼 느껴지게 됩니다.</p>\\n<p class=\"txt\" style=\"-webkit-tap-highlight-color: rgba(0,0,0,0)\"><strong>2. 연령에 따른 우울증의 특징적 증상</strong></p>\\n<p class=\"txt\" style=\"-webkit-tap-highlight-color: rgba(0,0,0,0)\">• 우울증은 30-40대에 가장 흔하지만 어느 연령에서나 발병할 수 있는 질환입니다. 우울증의 기본 증상은 의욕 저하가 대표적이지만, 연령과 성에 따라 독특하게 표현되기도 하므로 아래의 특징을 알아두는 것이 도움이 됩니다.<br/>• 특히 우리나라에서는 감정을 표현하기보다는 감추는 것이 미덕으로 여겨져 우울증이 우울한 감정보다 신체적 증상으로 표현되는 경우가 많이 있습니다.<br/>• 여성의 경우 산후 우울증, 갱년기 우울증 등 특정 시기에 우울증의 위험이 높아 주의를 요합니다.<br/>• 우울증의 결과가 때로 알코올 의존이나 남용으로 나타나는 경우를 이차성 알코올 의존이라고 합니다. 이 경우, 우울증을 치료하면 알코올 문제도 호전될 수 있으므로 조기 발견이 중요합니다.</p>\\n<div class=\"thmb c\">\\n<a href=\"/imageDetail.nhn?docId=2119852&amp;imageUrl=https%3A%2F%2Fdbscthumb-phinf.pstatic.net%2F1983_000_3%2F20180423171125501_249PG0OZK.jpg%2Fs02_132_i03.jpg%3Ftype%3Dm4500_4500_fst%26wm%3DN\" onclick=\"clickcr(this, \\'bdy.imgal\\', \\'\\', \\'\\', event);\" target=\"_blank\"><img alt=\"연령에 따른 특이한 우울증상\" data-font-image=\"false\" data-seq=\"3\" data-title=\"\" desc=\"\" hastitle=\"Y\" height=\"415\" origin_height=\"431\" origin_src=\"https://dbscthumb-phinf.pstatic.net/1983_000_3/20180423171125501_249PG0OZK.jpg/s02_132_i03.jpg?type=m4500_4500_fst&amp;wm=N\" origin_width=\"550\" source=\"국가건강정보포털 의학정보\" src=\"https://dbscthumb-phinf.pstatic.net/1983_000_3/20180423171125501_249PG0OZK.jpg/s02_132_i03.jpg?type=w530_fst&amp;wm=N\" width=\"530\"/></a>\\n</div>\\n<p class=\"txt\" style=\"-webkit-tap-highlight-color: rgba(0,0,0,0)\"><strong>3. 병원을 방문해야 하는 경우</strong></p>\\n<p class=\"txt\" style=\"-webkit-tap-highlight-color: rgba(0,0,0,0)\">우울증의 증상이 2주 이상 지속되어 일상생활에 지장을 줄 경우에는 정신과 전문의와 상의하는 것이 좋습니다. 그러나 우울증이 심할 때 부정적인 생각이 지배하기 쉽고 이런 이유로 치료에 대한 기대도 부정적인 경우가 많습니다. 그렇게 때문에 가족, 친구 등 보호자의 지지와 역할이 중요합니다. 병원을 방문할 경우 환자에 대해서 잘 아는 보호자가 함께 내원하여 의사에게 구체적인 정보를 제공하는 것도 많은 도움이 됩니다. 특히, 자살사고 등 위험성이 있는 경우는 즉시 방문할 필요가 있습니다.</p>\\n',\n",
       " '진단': '<h3 class=\"stress\" id=\"TABLE_OF_CONTENT5\" style=\"-webkit-tap-highlight-color: rgba(0,0,0,0)\">진단</h3>\\n<p class=\"txt\" style=\"-webkit-tap-highlight-color: rgba(0,0,0,0)\"><strong>1. 자가 진단</strong></p>\\n<p class=\"txt\" style=\"-webkit-tap-highlight-color: rgba(0,0,0,0)\"><span data-lang=\"en\" data-type=\"ore\">CES-D</span>척도는 우울증의 선별검사로 가장 많이 사용되고 있는 자가보고형 척도검사 중 하나입니다. 총점 16점 이상이면 경증의 우울증상을 가지고 있는 것이며, 21점 이상이면 중증도의 우울증상을, 25점 이상이면 중증의 우울 증상을 가지고 있는 것을 의심해볼 수 있으므로 전문가와의 상담이 필요합니다. 질문지의 결과가 반드시 우울증의 진단을 의미하지는 않습니다. 정확한 진단은 의사를 방문함으로써 받을 수 있습니다.</p>\\n<div class=\"thmb c\">\\n<a href=\"/imageDetail.nhn?docId=2119852&amp;imageUrl=https%3A%2F%2Fdbscthumb-phinf.pstatic.net%2F1983_000_3%2F20190923163501360_NG8F12IXB.jpg%2Fs02_132_i04.jpg%3Ftype%3Dm4500_4500_fst%26wm%3DN\" onclick=\"clickcr(this, \\'bdy.imgal\\', \\'\\', \\'\\', event);\" target=\"_blank\"><img alt=\"CES-D척도\" data-font-image=\"false\" data-seq=\"4\" data-title=\"\" desc=\"\" hastitle=\"Y\" height=\"949\" origin_height=\"985\" origin_src=\"https://dbscthumb-phinf.pstatic.net/1983_000_3/20190923163501360_NG8F12IXB.jpg/s02_132_i04.jpg?type=m4500_4500_fst&amp;wm=N\" origin_width=\"550\" source=\"국가건강정보포털 의학정보\" src=\"https://dbscthumb-phinf.pstatic.net/1983_000_3/20190923163501360_NG8F12IXB.jpg/s02_132_i04.jpg?type=w530_fst&amp;wm=N\" width=\"530\"/></a>\\n</div>\\n<p class=\"txt\" style=\"-webkit-tap-highlight-color: rgba(0,0,0,0)\"><strong>2. 우울증의 진단 기준</strong></p>\\n<p class=\"txt\" style=\"-webkit-tap-highlight-color: rgba(0,0,0,0)\">아래는 우울증의 진단 기준으로, 9가지 중 5개 이상의 증상이 2주 이상 지속하며 기존의 기능과 비교하여 명백한 장애가 있는 경우 진단할 수 있습니다. 그러나 우울증 진단은 진단 기준에 따라 기계적으로 이루어지는 것은 아닙니다. 가장 중요한 것을 숙련된 전문가의 면담을 통한 임상적 진단입니다.</p>\\n<p class=\"txt\" style=\"-webkit-tap-highlight-color: rgba(0,0,0,0)\">• 하루의 대부분, 그리고 거의 매일 지속되는 우울한 기분이 주관적인 보고(슬프거나 공허하다고 느낀다)나 객관적인 관찰(울 것처럼 보인다)에서 드러난다.<br/>※ 주의: 소아와 청소년의 경우는 과민한 기분으로 나타나기도 한다.<br/>• 모든 또는 거의 모든 일상 활동에 대한 흥미나 즐거움이 하루의 대부분 또는 거의 매일같이 뚜렷하게 저하되어 있을 경우(주관적인 설명이나 타인에 의한 관찰에서 드러난다)<br/>• 체중 조절을 하고 있지 않은 상태(예: 1개월 동안 체중 5% 이상의 변화)에서 의미있는 체중 감소나 체중 증가, 거의 매일 나타나는 식욕 감소나 증가가 있을 때<br/>• 거의 매일 나타나는 불면이나 과다 수면<br/>• 거의 매일 나타나는 정신 운동성 초조나 지체(주관적인 좌불안석 또는 처진 느낌이 타인에 의해서도 관찰 가능하다)<br/>• 거의 매일의 피로나 활력 상실<br/>• 거의 매일 무가치감 또는 과도하거나 부적절한 죄책감을 느낌(망상적일 수도 있는, 단순히 병이 있다는데 대한 자책이나 죄책감이 아님)<br/>• 거의 매일 나타나는 사고력이나 집중력의 감소, 또는 우유부단함(주관적인 호소나 관찰에서)<br/>• 반복되는 죽음에 대한 생각(단지 죽음에 대한 두려움뿐만 아니라), 특정한 계획 없이 반복되는 자살 생각 또는 자살 기도나 자살 수행에 대한 특정 계획</p>\\n<p class=\"txt\" style=\"-webkit-tap-highlight-color: rgba(0,0,0,0)\"><strong>3. 신체검사</strong></p>\\n<p class=\"txt\" style=\"-webkit-tap-highlight-color: rgba(0,0,0,0)\">갑상선 기능저하증 등 다양한 신체질환이 우울증을 유발할 수 있습니다. 그러므로 적절한 검사를 통해 다른 질환을 평가하는 것이 중요합니다.</p>\\n<p class=\"txt\" style=\"-webkit-tap-highlight-color: rgba(0,0,0,0)\"><strong>4. 심리검사</strong></p>\\n<p class=\"txt\" style=\"-webkit-tap-highlight-color: rgba(0,0,0,0)\">앞에 소개된 벡우울척도와 같이 환자 스스로 작성하는 자가보고척도가 도움이 됩니다. 숙련된 임상심리사와 진행하는 심리검사는 증상평가와 환자가 가진 방어기제 및 내적자원의 평가를 통해 치료계획수립에 도움을 줄 수 있습니다.</p>\\n',\n",
       " '치료': '<h3 class=\"stress\" id=\"TABLE_OF_CONTENT6\" style=\"-webkit-tap-highlight-color: rgba(0,0,0,0)\">치료</h3>\\n<p class=\"txt\" style=\"-webkit-tap-highlight-color: rgba(0,0,0,0)\">다행히 우울증은 효과적으로 치료가 가능한 질환입니다. 초기 완쾌율이 2개월 내에 70-80%에 이르는데, 주요한 치료 방법은 정신치료와 약물치료가 있습니다.</p>\\n<p class=\"txt\" style=\"-webkit-tap-highlight-color: rgba(0,0,0,0)\">가벼운 우울증은 상담만으로 충분한 경우도 있으나, 중증도 이상의 우울증에서는 약물치료가 필수적입니다. 특히, 최근 개발된 항우울제는 뇌내저하된 세로토닌을 증가시켜 우울증의 원인을 치료하며 부작용이 거의 없이 안전하게 우울증을 개선할 수 있습니다.</p>\\n<p class=\"txt\" style=\"-webkit-tap-highlight-color: rgba(0,0,0,0)\"><strong>1. 치료를 반드시 고려해야 하는 경우</strong></p>\\n<p class=\"txt\" style=\"-webkit-tap-highlight-color: rgba(0,0,0,0)\">• 우울증으로 인한 증상으로 일상생활에 불편함이 지속되는 경우<br/>• 직업기능, 학업 기능의 저하가 지속되는 경우<br/>• 자살의 위험성이 있는 경우<br/>• 동반되는 내과질환의 치료에 부정적인 영향을 주는 경우</p>\\n<p class=\"txt\" style=\"-webkit-tap-highlight-color: rgba(0,0,0,0)\">우울증은 잘 치료될 수 있는 의학적 질환입니다. 정신과 의사는 환자의 증상과 전신 상태, 질병의 진행 정도, 환자의 선호도 등을 종합적으로 검토하여 적절한 치료법을 환자와 함께 선택합니다.</p>\\n<p class=\"txt\" style=\"-webkit-tap-highlight-color: rgba(0,0,0,0)\"><strong>2. 치료의 단계</strong></p>\\n<p class=\"txt\" style=\"-webkit-tap-highlight-color: rgba(0,0,0,0)\">우울증의 치료는 급성기, 지속기, 유지기 치료로 세 단계로 나누어집니다.</p>\\n<p class=\"txt\" style=\"-webkit-tap-highlight-color: rgba(0,0,0,0)\">• 급성기 치료(2-3개월) ; 증상의 관해를 목적으로 합니다.<br/>• 지속기 치료(4-6개월) ; 관해를 유지함을 목적으로 합니다.<br/>• 유지기 치료(6-24개월) ; 반복성 우울증의 경우 재발 예방을 목적으로 합니다.</p>\\n<p class=\"txt\" style=\"-webkit-tap-highlight-color: rgba(0,0,0,0)\">항우울제 복용 후 대개 1-2주후 효과가 나타나며 8주에 70-80%는 증상이 소실됩니다. 그러나, 우울증은 재발이 잦기 때문에 급성기 치료 이후에도 4-6개월간 유지요법을 시행하는 것이 재발을 막는 방법입니다.</p>\\n<div class=\"thmb c\">\\n<a href=\"/imageDetail.nhn?docId=2119852&amp;imageUrl=https%3A%2F%2Fdbscthumb-phinf.pstatic.net%2F1983_000_3%2F20180423171310970_SLT0M07F1.jpg%2Fs02_132_i05.jpg%3Ftype%3Dm4500_4500_fst%26wm%3DN\" onclick=\"clickcr(this, \\'bdy.imgal\\', \\'\\', \\'\\', event);\" target=\"_blank\"><img alt=\"우울증의 호전과정\" data-font-image=\"false\" data-seq=\"5\" data-title=\"\" desc=\"\" hastitle=\"Y\" height=\"801\" origin_height=\"831\" origin_src=\"https://dbscthumb-phinf.pstatic.net/1983_000_3/20180423171310970_SLT0M07F1.jpg/s02_132_i05.jpg?type=m4500_4500_fst&amp;wm=N\" origin_width=\"550\" source=\"국가건강정보포털 의학정보\" src=\"https://dbscthumb-phinf.pstatic.net/1983_000_3/20180423171310970_SLT0M07F1.jpg/s02_132_i05.jpg?type=w530_fst&amp;wm=N\" width=\"530\"/></a>\\n</div>\\n<p class=\"txt\" style=\"-webkit-tap-highlight-color: rgba(0,0,0,0)\"><strong>3. 약물요법</strong></p>\\n<p class=\"txt\" style=\"-webkit-tap-highlight-color: rgba(0,0,0,0)\">항우울제는 지난 10년간 안정성과 효과가 크게 강화되어 우울증 치료에 있어 핵심적인 역할을 담당하고 있습니다.</p>\\n<p class=\"txt\" style=\"-webkit-tap-highlight-color: rgba(0,0,0,0)\"><strong>1) 항우울제</strong></p>\\n<p class=\"txt\" style=\"-webkit-tap-highlight-color: rgba(0,0,0,0)\">대개 세로토닌에 작용하는 약물로 뇌신경에 작용하여 세로토닌을 증가시키고 수용체 수를 정상화시켜 우울증을 치료하는 약입니다. 여러 종류의 항우울제가 사용되고 있으며, 환자의 증상과 선호에 따라 적절한 약물을 선택하는 것이 중요합니다.</p>\\n<p class=\"txt\" style=\"-webkit-tap-highlight-color: rgba(0,0,0,0)\">특히 항우울제는 효과가 서서히 나타나지만, 내성과 의존이 없는 장점이 있습니다. 치료 초기에 입이 마르거나, 변비, 기립성 저혈압 등의 부작용이 나타날 수 있습니다. 그렇다고 치료를 중단해서는 안 되며 의사와 상의하여 부작용 대처법을 숙지하고 용량을 조정하거나 다른 약물로 교체하는 방법을 선택하는 것이 중요합니다.</p>\\n<p class=\"txt\" style=\"-webkit-tap-highlight-color: rgba(0,0,0,0)\"><strong>2) 수면제</strong></p>\\n<p class=\"txt\" style=\"-webkit-tap-highlight-color: rgba(0,0,0,0)\">낮에 자거나 눕지 않고 활동을 늘리는 등 행동요법이 중요합니다. 그러나 불면증이 심한 경우 일시적으로 수면제를 사용하는 것이 증상 호전에도움이 될 수 있습니다. 주로 항불안제 계열의 약물이 사용되며 비습관성 수면제도 유용하게 사용되고 있습니다.</p>\\n<p class=\"txt\" style=\"-webkit-tap-highlight-color: rgba(0,0,0,0)\"><strong>3) 항불안제</strong></p>\\n<p class=\"txt\" style=\"-webkit-tap-highlight-color: rgba(0,0,0,0)\">동반되는 불안증 치료를 위해 우울증의 급성기 치료에 주로 사용됩니다. 이중 벤조디아제핀 계열의 약물은 일부 내성과 의존의 위험이 있으므로전문가의 처방하에 필요량을 필요기간만큼 복용하는 것이 좋습니다.</p>\\n<p class=\"txt\" style=\"-webkit-tap-highlight-color: rgba(0,0,0,0)\"><strong>4. 정신요법</strong></p>\\n<p class=\"txt\" style=\"-webkit-tap-highlight-color: rgba(0,0,0,0)\">필요에 따라 지지정신치료, 정신분석, 인지행동치료, 대인관계치료 등 다양한 정신과적 상담을 할 수 있습니다. 이를 통해 우울증의 특징적인 부정적 사고를 감소시키고 스트레스에 대처하는 능력을 향상시켜 우울증을 예방하는 효과를 볼 수 있습니다. 대부분 정신과 의사는 항우울제와 함께 정신요법을 함께 진행하며 이 경우 가장 효과적인 것으로 알려져 있습니다.</p>\\n<p class=\"txt\" style=\"-webkit-tap-highlight-color: rgba(0,0,0,0)\"><strong>5. 기타 비약물학적 치료</strong></p>\\n<p class=\"txt\" style=\"-webkit-tap-highlight-color: rgba(0,0,0,0)\">흔히 사용되고 있지는 않지만 전기경련요법과 뇌자극법도 유용한 치료방법입니다.</p>\\n<p class=\"txt\" style=\"-webkit-tap-highlight-color: rgba(0,0,0,0)\">전기경련요법은 최근에는 전신마취하에 안전하게 시행되고 있으며, 심한 우울증이나 자살위험이 높은 경우 치료효과가 매우 빠른 장점으로 인해현재도 시행되고 있는 치료법입니다.</p>\\n<p class=\"txt\" style=\"-webkit-tap-highlight-color: rgba(0,0,0,0)\">뇌자극법도 치료불응성 우울증에 효과적인 것으로 알려져 있습니다.</p>\\n',\n",
       " '환자들이 자주하는 질문': '<h3 class=\"stress\" id=\"TABLE_OF_CONTENT7\" style=\"-webkit-tap-highlight-color: rgba(0,0,0,0)\">환자들이 자주하는 질문</h3>\\n<p class=\"txt\" style=\"-webkit-tap-highlight-color: rgba(0,0,0,0)\"><strong>1. 우울증에 잘 대처하는 방법은?</strong></p>\\n<p class=\"txt\" style=\"-webkit-tap-highlight-color: rgba(0,0,0,0)\">일부 환자의 경우 우울증을 병으로 보지 않고 방치하다가 극단적으로 자살을 선택하는 경우가 있습니다. 따라서, 우선 우울증을 병으로 인식해야 하며, 우울증의 조기 증후를 제대로 알아야 합니다. 또한, 자신의 기분을 흔드는 외적 내적 사건을 인식해야 하며, 우울증 증세에 대한 자기 나름대로의 대처방안을 고안해야 합니다. 이때 주위의 도움이 필요할 수도 있습니다. 증상이 심한 경우, 전문가와의 상담이 필수적입니다. 우울증은 잘 치료되는 질환이라는 사실을 기억합니다.</p>\\n<p class=\"txt\" style=\"-webkit-tap-highlight-color: rgba(0,0,0,0)\"><strong>2. 가족이나 친구가 우울한 환자를 돕는 방법</strong></p>\\n<p class=\"txt\" style=\"-webkit-tap-highlight-color: rgba(0,0,0,0)\">• 우울증의 증상으로 인한 환자의 변화(짜증, 무기력, 약속 지키지 않음 등)를 비난하지 않고 우울증인지 의심해보고 차분히 대화를 나눈다.<br/>• 세심한 배려로 친구의 어려움을 충분히 들어주고 이해하고 공감하고 격려해준다.<br/>• 우울증 치료를 받도록 적극적으로 권유하고 중증도 이상의 우울증의 경우 항우울제를 복용하도록 돕는다.<br/>• 섣부른 충고보다는 경청하는 자세로 친구가 감정을 표현할 수 있도록 돕는 것이 좋다.<br/>• 환자를 혼자 두지 않고 운동 등 여러 가지 활동을 같이 하면 좋지만, 너무 강요하면 환자는 내가 얼마나 힘든지 모른다고 생각할 수 있다.<br/>• 자살에 대해서 언급한다면, 자세히 묻고 자살의 위험이 있는 경우 즉각적으로 치료를 받도록 하여야 합니다.</p>\\n<p class=\"txt\" style=\"-webkit-tap-highlight-color: rgba(0,0,0,0)\"><strong>3. 우울증에 극복할 수 있는 생활습관은?</strong></p>\\n<p class=\"txt\" style=\"-webkit-tap-highlight-color: rgba(0,0,0,0)\">• 긍정적인 생각을 가진다.<br/>• 운동하는 습관을 갖는다.<br/>• 규칙적이고 균형 잡힌 식습관을 가진다.<br/>• 알콜은 우울증 치료의 적이므로 반드시 피한다.<br/>• 명상과 요가, 이완요법이 도움이 된다.<br/>• 낮잠을 30분 이내로 하고 침대는 잠을 자는 용도로만 사용한다.</p>\\n<p class=\"txt\" style=\"-webkit-tap-highlight-color: rgba(0,0,0,0)\"><strong>4. 우울증이 의심되는데 어떻게 해야 하나요?</strong></p>\\n<p class=\"txt\" style=\"-webkit-tap-highlight-color: rgba(0,0,0,0)\">우울증 진단은 정신과 전문의와의 상담이 가장 바람직 하지만, 여러 경로를 통해 우울증 치료에 대한 구체적 정보를 무료로 제공받을 수 있습니다. 보건복지부에서 운영하는 중앙자살예방센터(<a href=\"http://www.spckorea.or.kr\" target=\"_blank\">www.spckorea.or.kr</a>)의 전화(1393)로  24시간 정신건강상담이 가능하며, 보건복지부 긴급전화(129)를 통해서도 위기시 상담이 가능합니다.</p>\\n<p class=\"txt\" style=\"-webkit-tap-highlight-color: rgba(0,0,0,0)\">대부분의 시•군•구 단위에서 운영하고 있는 정신보건센터를 통하면 전문의 상담과 사례관리를 제공받을 수 있습니다. 인터넷상에서는 신경정신의학회에서 운영하는 웹사이트 해피마인드(<a href=\"http://www.mind44.co.kr\" target=\"_blank\">www.mind44.co.kr</a>)을 통해 우울증에 대한 정보와 무료상담이 가능합니다. 또한, 서울광역정신보건센터 위기관리팀에서 운영하는 서울시 자살예방센터(<a href=\"http://www.suicide.or.kr\" target=\"_blank\">www.suicide.or.kr</a>)을 방문하면 인터넷 채팅으로 상담을 할 수 있습니다.</p>\\n',\n",
       " '기타정보': '<h3 class=\"stress\" id=\"TABLE_OF_CONTENT8\" style=\"-webkit-tap-highlight-color: rgba(0,0,0,0)\">기타정보</h3>\\n<p class=\"txt\" style=\"-webkit-tap-highlight-color: rgba(0,0,0,0)\"><strong>1. 역학적 특성</strong></p>\\n<p class=\"txt\" style=\"-webkit-tap-highlight-color: rgba(0,0,0,0)\"><strong>국내현황</strong></p>\\n<p class=\"txt\" style=\"-webkit-tap-highlight-color: rgba(0,0,0,0)\">보건복지부에서 최근에 발표한 국민건강영양조사 제6기 2차년도(2014) 결과보고에 의하면, 만 30세 이상에서의 우울증 유병률은 3.8%였는데, 여자가 5.6%로서 남자에서의 1.9%에 비하여 높았습니다. 65세 이상 노인인구에서의 유병률은 5.9%였습니다(남자 3.5%, 여자 7.6%). 연령에 따라서는 30대 2.7%, 40대 3.5%, 50대 3.2%, 60대 6.1%, 70대 이상 5.2%로 연령이 높아지며, 우울증 유병률도 높아지는 경향을 보였습니다. 소득에 따라 4 계층으로 구분할 때, 하위 계층에서의 유병률이 5.5%로서, 중하 계층 3.5%, 중상 계층 3.3%, 상위 계층 3.1%의 유병률보다 높게 나타났습니다.</p>\\n<p class=\"txt\" style=\"-webkit-tap-highlight-color: rgba(0,0,0,0)\"><strong>2. 우울증 치료사례</strong></p>\\n<p class=\"txt\" style=\"-webkit-tap-highlight-color: rgba(0,0,0,0)\"><strong>1) 치료 사례 - 가정의 평화를 찾은 사례</strong></p>\\n<p class=\"txt\" style=\"-webkit-tap-highlight-color: rgba(0,0,0,0)\">28세의 한 여성이 심한 우울감으로 정신과의원을 찾았다. 첫 발병이었지만 증세는 심각한 편이었다. 불면증도 심하였고 식욕저하로 체중도5킬로그램 이상 줄었다. 사는 게 아무 의미가 없다며 자살을 시도하기도 하였다. 본인이 이야기하는 주요한 스트레스 요인은 시부모와의갈등과 시부모를 편드는 남편의 태도였다. 어린 두 아이의 양육에 대한 부담도 적지 않았다. 결혼 초반까지는 부부관계가 너무 좋았었다고하였다.</p>\\n<p class=\"txt\" style=\"-webkit-tap-highlight-color: rgba(0,0,0,0)\">정신과에 내원한 첫날 남편은 난감해하였다. 너무 밝았던 배우자가 이렇게 심한 우울증에 걸린 것도 괴롭고, 그렇다고 부모님은 바뀔 것 같지도않다고 하였다. 정신과 의사는 결혼 후 우울증이 발생할 경우, 불필요하게 책임공방으로 있을 수 있는 갈등을 설명하였다.</p>\\n<p class=\"txt\" style=\"-webkit-tap-highlight-color: rgba(0,0,0,0)\">친정에서는 멀쩡하던 딸이 왜 이런 병에 걸렸냐고 노발대발하고 시집에서는 문제 있는 아이를 결혼시켜 아들 고생시킨다고 화내기 시작하면 문제는대략 악화일로로 치닫기 마련이다. 누구 때문에 생긴 문제인지를 찾는 것이 중요한 것이 아니라, 어떻게 이 문제를 해결할 것인가 하는 태도가중요하다. 우울증이 찾아 온 것은 어쩔수 없지만, 이를 수용하고 잘 대처하는 가정에는 때로 좋은 계기가 되기도 한다고 설명하였다.</p>\\n<p class=\"txt\" style=\"-webkit-tap-highlight-color: rgba(0,0,0,0)\">이 사례는 매우 성공적이었다. 사돈이 만나서 서로 미안하다는 말로 시작하였다. 시집에선 귀한 딸을 보내주었는데 병까지 생기게 한듯하여미안하다고 하였고, 친정에선 저희 아이가 부족해서 죄송하다고 시작하였다. 사돈은 힘을 합쳐 딸의 회복을 돕기로 하였고 약속을 정하여 아이를맡아주어 부부가 둘만 보낼 시간을 갖도록 배려해주었다. 부부는 치료 시작 두 달 후에 아이가 생긴 후 처음으로 며칠간 여행을 다녀오기도 하였다.치료경과는 매우 좋았다. 면담하러 들어온 환자의 얼굴은 놀랄만큼 밝아졌다. 환자는 한 달 만에 상당히 호전되었고 두 달 정도에 거의완전히 회복하였다.</p>\\n<p class=\"txt\" style=\"-webkit-tap-highlight-color: rgba(0,0,0,0)\">치료시작 6개월이 되어 약물유지치료를 종결하면서 환자에게 심정을 물었다. 우울했던 시간으로 다시 돌아가고 싶은 마음은 조금도 없지만 이병을 계기로 우리 가족은 전보다 행복해진 것 같다고 표현하였다. 때로 불쑥 찾아오는 우울증을 막을 길은 찾기 어렵다. 그러나 이러한 위기를가족이 한 단계 성숙하고 서로를 깊이 이해하는 계기로 만드는 것이야말로 가장 현명한 방법이 아닐까?</p>\\n<p class=\"txt\" style=\"-webkit-tap-highlight-color: rgba(0,0,0,0)\"><strong>2) 치료사례 - 직장동료의 우울증</strong></p>\\n<p class=\"txt\" style=\"-webkit-tap-highlight-color: rgba(0,0,0,0)\">대기업 과장인 A씨는 요즘 부하직원 B양 때문에 고민이다. 항상 성실하다고 평가해온 B씨의 모습이 요즘 전 같지 않기 때문이다. 자꾸중요한 일을 빠뜨리고 까먹는다. 도대체 일을 할 생각이 있는지 의심스러울 정도다. 의욕도 없고 회의 때 적극성을 보이는 일이 현저히 줄었다.가끔 멍하게 앉아 있는 걸 쳐다보고 있으면 과연 내가 알던 B씨가 맞나하는 생각이 든다.</p>\\n<p class=\"txt\" style=\"-webkit-tap-highlight-color: rgba(0,0,0,0)\">B씨의 영향으로 다른 직원들은 자신이 맡을 일이 늘어나면서 불만이 팽배해있다. 심지어 B씨가 안 나가면 내가 나가겠다고 하는 직원까지생길 지경이다. 조용히 불러서 뭐 고민이 있냐고 물어도 보았지만 별 대답이 없다. 내보내야할까도 생각해보았지만, 그동안 잘해온 것을 생각하면너무 아쉽고 어떻게 해야 할지 고민이다.</p>\\n<p class=\"txt\" style=\"-webkit-tap-highlight-color: rgba(0,0,0,0)\">얼마 후 B양은 회사에 결근하기 시작했고, 결국 모 병원 신경정신과에 치료를 시작하였으며, A씨는 나중에서야 B양의 행동이 우울증에 의한 것이었음을 듣게 되었다.</p>\\n<p class=\"txt\" style=\"-webkit-tap-highlight-color: rgba(0,0,0,0)\">우울증 환자의 이야기를 들으면 여러분은 무엇을 느끼게 될까? 실제 우울증 환자의 개인적인 병력을 들으면 경우에 따라 다르겠지만, 대체로여러분은 환자의 고통에 공감할 수 있을 것이다.</p>\\n<p class=\"txt\" style=\"-webkit-tap-highlight-color: rgba(0,0,0,0)\">그러나 직장에서나 일에서 동료로 만난다면 사정은 달라질 수 있다. A씨의 경우가 그런 것이다. 우울증의 증상으로 의욕이 없어지고 일에집중력이 저하되면 직장에서는 생산력의 감소가 두드러지게 된다. 이미 대인관계도 부정적으로 보게 된 당사자는 해고 등 자신에게 오히려 피해가될까 두려워 자신의 고통을 동료나 상사에게 알리려 하지 않는 경우가 많다. 그렇게 되면, 직장상사나 동료입장에서는 도저히 이해가 안 간다.왜 저러는 건지 원수도 이런 원수가 없다. 실제 동료나 상사에게 피해가 가는 일이 발생하기도 한다.</p>\\n<p class=\"txt\" style=\"-webkit-tap-highlight-color: rgba(0,0,0,0)\">선진국에서는 우울증이 기업의 생산력 감소에 상당한 영향을 미친다는 것을 일찍부터 간파하였다. 그래서 근로자지원시스템(<span data-lang=\"en\" data-type=\"ore\">Employeeassistance</span> <span data-lang=\"en\" data-type=\"ore\">program</span>)이라고 하여 직장 내 정신건강문제로 어려움을 겪고 있는 사람을 조기발견하고 적절한 치료를 제공하며 나중에직장복귀까지 도와주는 시스템을 갖추고 있다. 선진국의 기업이 이런 시스템을 갖추는 것이 단지 복지에 대한 인식이 높기 때문만은 아니다.이런 시스템에 투자하는 비용보다 우울증의 조기발견과 스트레스 관리의 효과로 인한 이득이 더 크다고 판단하기 때문이다.</p>\\n<p class=\"txt\" style=\"-webkit-tap-highlight-color: rgba(0,0,0,0)\">국내에서도 몇몇 기업에서 도입하고 있지만, 아직 미흡한 실정이다. 만일 동료나 직원 중 이러한 경우가 있다면 개별적으로 만나 우울증인지의여부를 확인해보고 필요 시 전문가를 만날 것을 권유해 볼 필요가 있다. 필요하다면 정신보건센터나 정신건강상담의 전화로 대처방법에 도움을 받을수 있다. 비밀유지가 생명이다. 비밀이 보장되지 않는다면 직장 내에서 솔직한 의사소통은 불가능하다.</p>\\n</div>]'}"
      ]
     },
     "execution_count": 167,
     "metadata": {},
     "output_type": "execute_result"
    }
   ],
   "source": [
    "json"
   ]
  }
 ],
 "metadata": {
  "kernelspec": {
   "display_name": "crawler",
   "language": "python",
   "name": "crawler"
  },
  "language_info": {
   "codemirror_mode": {
    "name": "ipython",
    "version": 3
   },
   "file_extension": ".py",
   "mimetype": "text/x-python",
   "name": "python",
   "nbconvert_exporter": "python",
   "pygments_lexer": "ipython3",
   "version": "3.7.3"
  }
 },
 "nbformat": 4,
 "nbformat_minor": 4
}
